{
 "cells": [
  {
   "cell_type": "code",
   "execution_count": 5,
   "metadata": {},
   "outputs": [
    {
     "name": "stdout",
     "output_type": "stream",
     "text": [
      "The autoreload extension is already loaded. To reload it, use:\n",
      "  %reload_ext autoreload\n"
     ]
    }
   ],
   "source": [
    "%load_ext autoreload\n",
    "%autoreload 2"
   ]
  },
  {
   "cell_type": "code",
   "execution_count": 78,
   "metadata": {},
   "outputs": [],
   "source": [
    "from common import *\n",
    "from blackjack import House, Player, Dealer, FixedPolicy, AlwaysStick, evaluate\n",
    "import numpy as np"
   ]
  },
  {
   "cell_type": "code",
   "execution_count": 79,
   "metadata": {},
   "outputs": [],
   "source": [
    "H = House()\n",
    "P = Player(FixedPolicy())\n",
    "D = Dealer(AlwaysStick())"
   ]
  },
  {
   "cell_type": "code",
   "execution_count": 84,
   "metadata": {},
   "outputs": [
    {
     "name": "stdout",
     "output_type": "stream",
     "text": [
      "============================================================\n",
      "Game #0 \n",
      "Player's Turn\n",
      "Player's Hand: [2 of Clubs, King of Spades] \n",
      "Dealer's Hand: [5 of Clubs, 2 of Hearts]\n",
      "Player's action : Hit\n",
      "\n",
      "Player's Hand: [2 of Clubs, King of Spades, King of Diamonds] \n",
      "Dealer's Hand: [5 of Clubs, 2 of Hearts]\n",
      "The Dealer Won\n",
      "============================================================\n",
      "Game #1 \n",
      "Player's Turn\n",
      "Player's Hand: [8 of Spades, Queen of Diamonds] \n",
      "Dealer's Hand: [Queen of Spades, 3 of Clubs]\n",
      "Player's action : Hit\n",
      "\n",
      "Player's Hand: [8 of Spades, Queen of Diamonds, King of Hearts] \n",
      "Dealer's Hand: [Queen of Spades, 3 of Clubs]\n",
      "The Dealer Won\n",
      "============================================================\n",
      "Game #2 \n",
      "Player's Turn\n",
      "Player's Hand: [8 of Hearts, King of Spades] \n",
      "Dealer's Hand: [Jack of Diamonds, Jack of Diamonds]\n",
      "Player's action : Hit\n",
      "\n",
      "Player's Hand: [8 of Hearts, King of Spades, 8 of Spades] \n",
      "Dealer's Hand: [Jack of Diamonds, Jack of Diamonds]\n",
      "The Dealer Won\n",
      "============================================================\n",
      "Game #3 \n",
      "Player's Turn\n",
      "Player's Hand: [9 of Spades, 4 of Clubs] \n",
      "Dealer's Hand: [2 of Diamonds, King of Clubs]\n",
      "Player's action : Hit\n",
      "\n",
      "Player's Hand: [9 of Spades, 4 of Clubs, 4 of Spades] \n",
      "Dealer's Hand: [2 of Diamonds, King of Clubs]\n",
      "Player's action : Hit\n",
      "\n",
      "Player's Hand: [9 of Spades, 4 of Clubs, 4 of Spades, Ace of Hearts] \n",
      "Dealer's Hand: [2 of Diamonds, King of Clubs]\n",
      "Player's action : Hit\n",
      "\n",
      "Player's Hand: [9 of Spades, 4 of Clubs, 4 of Spades, Ace of Hearts, 8 of Spades] \n",
      "Dealer's Hand: [2 of Diamonds, King of Clubs]\n",
      "The Dealer Won\n",
      "============================================================\n",
      "Game #4 \n",
      "Player's Turn\n",
      "Player's Hand: [4 of Hearts, 6 of Spades] \n",
      "Dealer's Hand: [3 of Spades, 10 of Hearts]\n",
      "Player's action : Hit\n",
      "\n",
      "Player's Hand: [4 of Hearts, 6 of Spades, 8 of Spades] \n",
      "Dealer's Hand: [3 of Spades, 10 of Hearts]\n",
      "Player's action : Hit\n",
      "\n",
      "Player's Hand: [4 of Hearts, 6 of Spades, 8 of Spades, 4 of Clubs] \n",
      "Dealer's Hand: [3 of Spades, 10 of Hearts]\n",
      "The Dealer Won\n",
      "============================================================\n",
      "Game #5 \n",
      "Player's Turn\n",
      "Player's Hand: [Jack of Diamonds, 6 of Hearts] \n",
      "Dealer's Hand: [6 of Hearts, Ace of Hearts]\n",
      "Player's action : Hit\n",
      "\n",
      "Player's Hand: [Jack of Diamonds, 6 of Hearts, Queen of Clubs] \n",
      "Dealer's Hand: [6 of Hearts, Ace of Hearts]\n",
      "The Dealer Won\n",
      "============================================================\n",
      "Game #6 \n",
      "Player's Turn\n",
      "Player's Hand: [3 of Diamonds, 3 of Diamonds] \n",
      "Dealer's Hand: [4 of Hearts, Jack of Diamonds]\n",
      "Player's action : Hit\n",
      "\n",
      "Player's Hand: [3 of Diamonds, 3 of Diamonds, 10 of Diamonds] \n",
      "Dealer's Hand: [4 of Hearts, Jack of Diamonds]\n",
      "Player's action : Hit\n",
      "\n",
      "Player's Hand: [3 of Diamonds, 3 of Diamonds, 10 of Diamonds, Queen of Hearts] \n",
      "Dealer's Hand: [4 of Hearts, Jack of Diamonds]\n",
      "The Dealer Won\n",
      "============================================================\n",
      "Game #7 \n",
      "Player's Turn\n",
      "Player's Hand: [2 of Clubs, 7 of Hearts] \n",
      "Dealer's Hand: [7 of Spades, 4 of Diamonds]\n",
      "Player's action : Hit\n",
      "\n",
      "Player's Hand: [2 of Clubs, 7 of Hearts, Ace of Hearts] \n",
      "Dealer's Hand: [7 of Spades, 4 of Diamonds]\n",
      "Player's action : Stick\n",
      "\n",
      "Dealer's Turn\n",
      "Player's Hand: [2 of Clubs, 7 of Hearts, Ace of Hearts] \n",
      "Dealer's Hand: [7 of Spades, 4 of Diamonds]\n",
      "Dealer's action : Stick\n",
      "\n",
      "Dealer's Turn\n",
      "Player's Hand: [2 of Clubs, 7 of Hearts, Ace of Hearts] \n",
      "Dealer's Hand: [7 of Spades, 4 of Diamonds]\n",
      "The Player Won\n",
      "============================================================\n",
      "Game #8 \n",
      "Player's Turn\n",
      "Player's Hand: [8 of Clubs, 4 of Clubs] \n",
      "Dealer's Hand: [6 of Hearts, Queen of Clubs]\n",
      "Player's action : Hit\n",
      "\n",
      "Player's Hand: [8 of Clubs, 4 of Clubs, 6 of Spades] \n",
      "Dealer's Hand: [6 of Hearts, Queen of Clubs]\n",
      "Player's action : Hit\n",
      "\n",
      "Player's Hand: [8 of Clubs, 4 of Clubs, 6 of Spades, 7 of Spades] \n",
      "Dealer's Hand: [6 of Hearts, Queen of Clubs]\n",
      "The Dealer Won\n",
      "============================================================\n",
      "Game #9 \n",
      "Player's Turn\n",
      "Player's Hand: [Queen of Clubs, Jack of Diamonds] \n",
      "Dealer's Hand: [4 of Diamonds, Queen of Diamonds]\n",
      "Player's action : Stick\n",
      "\n",
      "Dealer's Turn\n",
      "Player's Hand: [Queen of Clubs, Jack of Diamonds] \n",
      "Dealer's Hand: [4 of Diamonds, Queen of Diamonds]\n",
      "Dealer's action : Stick\n",
      "\n",
      "Dealer's Turn\n",
      "Player's Hand: [Queen of Clubs, Jack of Diamonds] \n",
      "Dealer's Hand: [4 of Diamonds, Queen of Diamonds]\n",
      "The Player Won\n"
     ]
    }
   ],
   "source": [
    "value_state = evaluate(P, D, H, 10, verbose=True)"
   ]
  },
  {
   "cell_type": "code",
   "execution_count": 85,
   "metadata": {},
   "outputs": [
    {
     "data": {
      "text/plain": [
       "{(20, 4): 0.0,\n",
       " (20, 7): 0.0,\n",
       " (22, 3): 0.0,\n",
       " (22, 5): -1.0,\n",
       " (25, 6): 0.0,\n",
       " (26, 2): 0.0,\n",
       " (26, 4): 0.0,\n",
       " (26, 6): -1.0,\n",
       " (26, 10): -1.0,\n",
       " (28, 10): -1.0}"
      ]
     },
     "execution_count": 85,
     "metadata": {},
     "output_type": "execute_result"
    }
   ],
   "source": [
    "value_state"
   ]
  },
  {
   "cell_type": "code",
   "execution_count": null,
   "metadata": {},
   "outputs": [],
   "source": []
  }
 ],
 "metadata": {
  "kernelspec": {
   "display_name": "Python 3",
   "language": "python",
   "name": "python3"
  },
  "language_info": {
   "codemirror_mode": {
    "name": "ipython",
    "version": 3
   },
   "file_extension": ".py",
   "mimetype": "text/x-python",
   "name": "python",
   "nbconvert_exporter": "python",
   "pygments_lexer": "ipython3",
   "version": "3.5.2"
  }
 },
 "nbformat": 4,
 "nbformat_minor": 2
}
